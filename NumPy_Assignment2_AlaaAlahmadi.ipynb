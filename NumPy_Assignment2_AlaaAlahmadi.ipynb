{
 "cells": [
  {
   "cell_type": "markdown",
   "id": "5ffb93ae",
   "metadata": {},
   "source": [
    "# Q1: Import numpy library"
   ]
  },
  {
   "cell_type": "code",
   "execution_count": 1,
   "id": "936d4703",
   "metadata": {},
   "outputs": [],
   "source": [
    "import numpy as np"
   ]
  },
  {
   "cell_type": "markdown",
   "id": "b6991a89",
   "metadata": {},
   "source": [
    "# Q2: Generate a sequence of 15 floats using linspace() function"
   ]
  },
  {
   "cell_type": "code",
   "execution_count": 2,
   "id": "43bf04a5",
   "metadata": {},
   "outputs": [
    {
     "name": "stdout",
     "output_type": "stream",
     "text": [
      "[0.         0.07142857 0.14285714 0.21428571 0.28571429 0.35714286\n",
      " 0.42857143 0.5        0.57142857 0.64285714 0.71428571 0.78571429\n",
      " 0.85714286 0.92857143 1.        ]\n"
     ]
    }
   ],
   "source": [
    "sequence = np.linspace(0, 1, 15)\n",
    "print(sequence)"
   ]
  },
  {
   "cell_type": "markdown",
   "id": "7144bba8",
   "metadata": {},
   "source": [
    "# Q3: Create a 3-D array in shape (2, 2, 3) containing the four arrays given below \n",
    "Note : the array's name is up to you.\n",
    "\n",
    "|      |       |          |         |\n",
    "|------| ----- | -------- | ------- |\n",
    "|arr1 | 1.1    | 2.1       | 3.1        |\n",
    "|arr2 | 4.1    | 5.1       | 6.1        |\n",
    "|arr3 | 7.1    | 8.1       | 9.1        |\n",
    "|arr4 | 10.1   | 11.1      | 12.1       |"
   ]
  },
  {
   "cell_type": "code",
   "execution_count": 8,
   "id": "c1c3f9dc",
   "metadata": {},
   "outputs": [
    {
     "name": "stdout",
     "output_type": "stream",
     "text": [
      "[[[ 1.1  2.1  3.1]\n",
      "  [ 4.1  5.1  6.1]]\n",
      "\n",
      " [[ 7.1  8.1  9.1]\n",
      "  [10.1 11.1 12.1]]]\n",
      "Shape of the array: (2, 2, 3)\n"
     ]
    }
   ],
   "source": [
    "array1 = np.array([1.1, 2.1, 3.1])\n",
    "array2 = np.array([4.1, 5.1, 6.1])\n",
    "array3 = np.array([7.1, 8.1, 9.1])\n",
    "array4 = np.array([10.1, 11.1, 12.1])\n",
    "\n",
    "# Combine them into a 3-D array\n",
    "array_3d = np.array([[array1, array2], [array3, array4]])\n",
    "\n",
    "print(array_3d)\n",
    "print(\"Shape of the array:\", array_3d.shape)"
   ]
  },
  {
   "cell_type": "markdown",
   "id": "807acbf6",
   "metadata": {},
   "source": [
    "# Q4: Print the following:\n",
    "Note: use the same array from Q3.\n",
    "- Array's type.\n",
    "- Array's elements datatype.\n",
    "- Array's shape.\n",
    "- Array's size.\n",
    "- Array's dimention."
   ]
  },
  {
   "cell_type": "code",
   "execution_count": 9,
   "id": "6e90d6a0",
   "metadata": {},
   "outputs": [
    {
     "name": "stdout",
     "output_type": "stream",
     "text": [
      "Array's type: <class 'numpy.ndarray'>\n",
      "Array's elements datatype: float64\n",
      "Array's shape: (2, 2, 3)\n",
      "Array's size: 12\n",
      "Array's dimension: 3\n"
     ]
    }
   ],
   "source": [
    "# Array's type\n",
    "array_type = type(array_3d)\n",
    "# Array's elements datatype\n",
    "elements_datatype = array_3d.dtype\n",
    "# Array's shape\n",
    "array_shape = array_3d.shape\n",
    "# Array's size\n",
    "array_size = array_3d.size\n",
    "# Array's dimension\n",
    "array_dimension = array_3d.ndim\n",
    "\n",
    "print(\"Array's type:\", array_type)\n",
    "print(\"Array's elements datatype:\", elements_datatype)\n",
    "print(\"Array's shape:\", array_shape)\n",
    "print(\"Array's size:\", array_size)\n",
    "print(\"Array's dimension:\", array_dimension)"
   ]
  },
  {
   "cell_type": "markdown",
   "id": "db4958b5",
   "metadata": {},
   "source": [
    "# Q5:  Change the array dimention from 3-D to 4-D\n",
    "Note: use the same array from Q3.\n",
    "- Create a new array to hold the changes. \n",
    "- Print the new array's dimention and shape."
   ]
  },
  {
   "cell_type": "code",
   "execution_count": 10,
   "id": "e9f5c88c",
   "metadata": {},
   "outputs": [
    {
     "name": "stdout",
     "output_type": "stream",
     "text": [
      "New array's dimension: 4\n",
      "New array's shape: (2, 2, 1, 3)\n",
      "[[[[ 1.1  2.1  3.1]]\n",
      "\n",
      "  [[ 4.1  5.1  6.1]]]\n",
      "\n",
      "\n",
      " [[[ 7.1  8.1  9.1]]\n",
      "\n",
      "  [[10.1 11.1 12.1]]]]\n"
     ]
    }
   ],
   "source": [
    "array_4d = array_3d.reshape(2, 2, 1, 3)\n",
    "\n",
    "print(\"New array's dimension:\", array_4d.ndim)\n",
    "print(\"New array's shape:\", array_4d.shape)\n",
    "print(array_4d)"
   ]
  },
  {
   "cell_type": "markdown",
   "id": "454f2504",
   "metadata": {},
   "source": [
    "# Q6: Change the array's elements datatype to integer  \n",
    "Note: use the same array from Q5.\n",
    "\n",
    "- Create a new array to hold the changes. \n",
    "- Print the new array."
   ]
  },
  {
   "cell_type": "code",
   "execution_count": 11,
   "id": "8135b045",
   "metadata": {},
   "outputs": [
    {
     "name": "stdout",
     "output_type": "stream",
     "text": [
      "[[[[ 1  2  3]]\n",
      "\n",
      "  [[ 4  5  6]]]\n",
      "\n",
      "\n",
      " [[[ 7  8  9]]\n",
      "\n",
      "  [[10 11 12]]]]\n"
     ]
    }
   ],
   "source": [
    "array_4d_int = array_4d.astype(int)\n",
    "print(array_4d_int)"
   ]
  },
  {
   "cell_type": "code",
   "execution_count": 12,
   "id": "22e21128-6d81-46c4-a2ce-a741f1ada90a",
   "metadata": {},
   "outputs": [
    {
     "data": {
      "text/plain": [
       "dtype('int32')"
      ]
     },
     "execution_count": 12,
     "metadata": {},
     "output_type": "execute_result"
    }
   ],
   "source": [
    "array_4d_int.dtype"
   ]
  },
  {
   "cell_type": "markdown",
   "id": "ab90badc",
   "metadata": {},
   "source": [
    "# Q7: Print all array's elements using for loop\n",
    "Note: use the same array from Q6.\n",
    "\n",
    "Hint: use nditer()"
   ]
  },
  {
   "cell_type": "code",
   "execution_count": 13,
   "id": "a0d58d15",
   "metadata": {},
   "outputs": [
    {
     "name": "stdout",
     "output_type": "stream",
     "text": [
      "1\n",
      "2\n",
      "3\n",
      "4\n",
      "5\n",
      "6\n",
      "7\n",
      "8\n",
      "9\n",
      "10\n",
      "11\n",
      "12\n"
     ]
    }
   ],
   "source": [
    "for element in np.nditer(array_4d_int):\n",
    "    print(element)"
   ]
  },
  {
   "cell_type": "markdown",
   "id": "afa8b5f3",
   "metadata": {},
   "source": [
    "# Q8:  Print number 8 using array slicing\n",
    "Note: use the same array from Q6."
   ]
  },
  {
   "cell_type": "code",
   "execution_count": 14,
   "id": "6e12e2d7",
   "metadata": {},
   "outputs": [
    {
     "name": "stdout",
     "output_type": "stream",
     "text": [
      "8\n"
     ]
    }
   ],
   "source": [
    "print(array_4d_int[1, 0, 0, 1])"
   ]
  },
  {
   "cell_type": "markdown",
   "id": "e2e71895",
   "metadata": {},
   "source": [
    "# Q9: Print number 5 and number 6 using array slicing\n",
    "Note: use the same array from Q6."
   ]
  },
  {
   "cell_type": "code",
   "execution_count": 15,
   "id": "c3218bcb",
   "metadata": {},
   "outputs": [
    {
     "name": "stdout",
     "output_type": "stream",
     "text": [
      "[5 6]\n"
     ]
    }
   ],
   "source": [
    "print(array_4d_int[0, 1, 0, 1:3])"
   ]
  },
  {
   "cell_type": "markdown",
   "id": "e5d63cd3",
   "metadata": {},
   "source": [
    "# Q10: Search for number 8 using where()\n",
    "Note: use the same array from Q6.\n",
    "\n",
    "Note: where() is only used with small data.\n",
    "\n",
    "*the output represents the path of the index that leads to number 8*"
   ]
  },
  {
   "cell_type": "code",
   "execution_count": 16,
   "id": "ddaf0146",
   "metadata": {},
   "outputs": [
    {
     "name": "stdout",
     "output_type": "stream",
     "text": [
      "Indices where the number 8 is located: (array([1], dtype=int64), array([0], dtype=int64), array([0], dtype=int64), array([1], dtype=int64))\n"
     ]
    }
   ],
   "source": [
    "indices = np.where(array_4d_int == 8)\n",
    "print(\"Indices where the number 8 is located:\", indices)"
   ]
  },
  {
   "cell_type": "markdown",
   "id": "c89f41ad",
   "metadata": {},
   "source": [
    "# Q11: Reshape the array as the following\n",
    "\n",
    "    array([[[ 1, 2],\n",
    "            [ 3,  4],\n",
    "            [ 5,  6]],\n",
    "\n",
    "           [[ 7,  8],\n",
    "            [ 9, 10],\n",
    "            [11, 12]]])\n",
    "            \n",
    " Note: use the same array from Q6."
   ]
  },
  {
   "cell_type": "code",
   "execution_count": 17,
   "id": "d9b632bd",
   "metadata": {},
   "outputs": [
    {
     "name": "stdout",
     "output_type": "stream",
     "text": [
      "[[[ 1  2]\n",
      "  [ 3  4]\n",
      "  [ 5  6]]\n",
      "\n",
      " [[ 7  8]\n",
      "  [ 9 10]\n",
      "  [11 12]]]\n"
     ]
    }
   ],
   "source": [
    "reshaped_array = array_4d_int.reshape(2, 3, 2)\n",
    "\n",
    "print(reshaped_array)"
   ]
  },
  {
   "cell_type": "markdown",
   "id": "539c16b1",
   "metadata": {},
   "source": [
    "# Q12: Join the given arrays below \n",
    "    arr1 = np.array([['A', 'B'], ['E', 'F']])\n",
    "    arr2 = np.array([['C', 'D'], ['G', 'H']])\n",
    "## Q12.1: Join the arrays without specifying the axis "
   ]
  },
  {
   "cell_type": "code",
   "execution_count": 18,
   "id": "d6acdeaf",
   "metadata": {},
   "outputs": [
    {
     "name": "stdout",
     "output_type": "stream",
     "text": [
      "[['A' 'B']\n",
      " ['E' 'F']\n",
      " ['C' 'D']\n",
      " ['G' 'H']]\n"
     ]
    }
   ],
   "source": [
    "arr1 = np.array([['A', 'B'], ['E', 'F']])\n",
    "arr2 = np.array([['C', 'D'], ['G', 'H']])\n",
    "joined_array = np.concatenate((arr1, arr2))\n",
    "\n",
    "print(joined_array)"
   ]
  },
  {
   "cell_type": "markdown",
   "id": "1a37dd47",
   "metadata": {},
   "source": [
    "# Q12.2: Join the arrays along rows with axis = 1 "
   ]
  },
  {
   "cell_type": "code",
   "execution_count": 21,
   "id": "b849658c",
   "metadata": {},
   "outputs": [
    {
     "name": "stdout",
     "output_type": "stream",
     "text": [
      "[['A' 'B' 'C' 'D']\n",
      " ['E' 'F' 'G' 'H']]\n"
     ]
    }
   ],
   "source": [
    "joined_array_axis = np.concatenate((arr1, arr2), axis=1)\n",
    "print(joined_array_axis)"
   ]
  },
  {
   "cell_type": "markdown",
   "id": "7296eecf",
   "metadata": {},
   "source": [
    "# Q13: Split the array into two arrays with axis = 1, each array should contain four arrays. \n",
    "Note: use the same array from Q12.1"
   ]
  },
  {
   "cell_type": "code",
   "execution_count": 24,
   "id": "7f7f5e49",
   "metadata": {},
   "outputs": [
    {
     "name": "stdout",
     "output_type": "stream",
     "text": [
      "Array 1:\n",
      "[['A' 'B']\n",
      " ['E' 'F']]\n",
      "\n",
      "Array 2:\n",
      "[['C' 'D']\n",
      " ['G' 'H']]\n",
      "\n"
     ]
    }
   ],
   "source": [
    "split_arrays = np.split(joined_array, 2, axis=1)\n",
    "\n",
    "for i, array in enumerate(split_arrays):\n",
    "    print(f\"Array {i+1}:\\n{array}\\n\")\n"
   ]
  }
 ],
 "metadata": {
  "kernelspec": {
   "display_name": "Python 3 (ipykernel)",
   "language": "python",
   "name": "python3"
  },
  "language_info": {
   "codemirror_mode": {
    "name": "ipython",
    "version": 3
   },
   "file_extension": ".py",
   "mimetype": "text/x-python",
   "name": "python",
   "nbconvert_exporter": "python",
   "pygments_lexer": "ipython3",
   "version": "3.12.4"
  }
 },
 "nbformat": 4,
 "nbformat_minor": 5
}
